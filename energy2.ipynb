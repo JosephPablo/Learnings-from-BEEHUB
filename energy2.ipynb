{
 "cells": [
  {
   "cell_type": "code",
   "execution_count": 2,
   "metadata": {},
   "outputs": [
    {
     "name": "stderr",
     "output_type": "stream",
     "text": [
      "usage: ipykernel_launcher.py [-h] [--host HOST] [--port PORT]\n",
      "ipykernel_launcher.py: error: unrecognized arguments: -f /Users/varun/Library/Jupyter/runtime/kernel-08bc1b29-0dc9-4cef-af9f-66008d1bccc6.json\n"
     ]
    },
    {
     "ename": "SystemExit",
     "evalue": "2",
     "output_type": "error",
     "traceback": [
      "An exception has occurred, use %tb to see the full traceback.\n",
      "\u001b[0;31mSystemExit\u001b[0m\u001b[0;31m:\u001b[0m 2\n"
     ]
    },
    {
     "name": "stderr",
     "output_type": "stream",
     "text": [
      "/anaconda/lib/python3.6/site-packages/IPython/core/interactiveshell.py:2870: UserWarning: To exit: use 'exit', 'quit', or Ctrl-D.\n",
      "  warn(\"To exit: use 'exit', 'quit', or Ctrl-D.\", stacklevel=1)\n"
     ]
    }
   ],
   "source": [
    "import argparse\n",
    "\n",
    "from influxdb import InfluxDBClient\n",
    "\n",
    "\n",
    "def main(host='localhost', port=8086):\n",
    "    \"\"\"Instantiate a connection to the InfluxDB.\"\"\"\n",
    "    user = 'root'\n",
    "    password = 'root'\n",
    "    dbname = 'example'\n",
    "    dbuser = 'smly'\n",
    "    dbuser_password = 'my_secret_password'\n",
    "    query = 'select value from cpu_load_short;'\n",
    "    json_body = [\n",
    "        {\n",
    "            \"measurement\": \"cpu_load_short\",\n",
    "            \"tags\": {\n",
    "                \"host\": \"server01\",\n",
    "                \"region\": \"us-west\"\n",
    "            },\n",
    "            \"time\": \"2009-11-10T23:00:00Z\",\n",
    "            \"fields\": {\n",
    "                \"Float_value\": 0.64,\n",
    "                \"Int_value\": 3,\n",
    "                \"String_value\": \"Text\",\n",
    "                \"Bool_value\": True\n",
    "            }\n",
    "        }\n",
    "    ]\n",
    "\n",
    "    client = InfluxDBClient(host, port, user, password, dbname)\n",
    "\n",
    "    print(\"Create database: \" + dbname)\n",
    "    client.create_database(dbname)\n",
    "    \n",
    "    print(\"Create a retention policy\")\n",
    "    client.create_retention_policy('awesome_policy', '3d', 3, default=True)\n",
    "\n",
    "    print(\"Switch user: \" + dbuser)\n",
    "    client.switch_user(dbuser, dbuser_password)\n",
    "\n",
    "    print(\"Write points: {0}\".format(json_body))\n",
    "    client.write_points(json_body)\n",
    "\n",
    "    print(\"Querying data: \" + query)\n",
    "    result = client.query(query)\n",
    "\n",
    "    print(\"Result: {0}\".format(result))\n",
    "\n",
    "    print(\"Switch user: \" + user)\n",
    "    client.switch_user(user, password)\n",
    "\n",
    "    print(\"Drop database: \" + dbname)\n",
    "    client.drop_database(dbname)\n",
    "\n",
    "\n",
    "def parse_args():\n",
    "    \"\"\"Parse the args.\"\"\"\n",
    "    parser = argparse.ArgumentParser(\n",
    "        description='example code to play with InfluxDB')\n",
    "    parser.add_argument('--host', type=str, required=False,\n",
    "                        default='localhost',\n",
    "                        help='hostname of InfluxDB http API')\n",
    "    parser.add_argument('--port', type=int, required=False, default=8086,\n",
    "                        help='port of InfluxDB http API')\n",
    "    return parser.parse_args()\n",
    "\n",
    "\n",
    "if __name__ == '__main__':\n",
    "    args = parse_args()\n",
    "    main(host=args.host, port=args.port)"
   ]
  },
  {
   "cell_type": "code",
   "execution_count": null,
   "metadata": {
    "collapsed": true
   },
   "outputs": [],
   "source": []
  }
 ],
 "metadata": {
  "kernelspec": {
   "display_name": "Python 3",
   "language": "python",
   "name": "python3"
  },
  "language_info": {
   "codemirror_mode": {
    "name": "ipython",
    "version": 3
   },
   "file_extension": ".py",
   "mimetype": "text/x-python",
   "name": "python",
   "nbconvert_exporter": "python",
   "pygments_lexer": "ipython3",
   "version": "3.6.1"
  }
 },
 "nbformat": 4,
 "nbformat_minor": 2
}
